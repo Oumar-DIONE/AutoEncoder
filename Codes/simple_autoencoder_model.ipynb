{
 "cells": [
  {
   "cell_type": "markdown",
   "metadata": {},
   "source": [
    "1 Init and Import "
   ]
  },
  {
   "cell_type": "code",
   "execution_count": 2,
   "metadata": {},
   "outputs": [],
   "source": [
    "import numpy as np"
   ]
  },
  {
   "cell_type": "code",
   "execution_count": 3,
   "metadata": {},
   "outputs": [],
   "source": [
    "import matplotlib.pyplot as plt"
   ]
  },
  {
   "cell_type": "code",
   "execution_count": 4,
   "metadata": {},
   "outputs": [],
   "source": [
    "import os\n",
    "\n",
    "# Définir le backend souhaité (par exemple, 'tensorflow' ou 'theano')\n",
    "backend = 'torch'  # Remplacez 'tensorflow' par le backend de votre choix\n",
    "\n",
    "# Définir la variable d'environnement KERAS_BACKEND\n",
    "os.environ['KERAS_BACKEND'] = backend\n",
    "\n",
    "# Importer Keras après avoir défini la variable d'environnement\n",
    "import keras\n",
    "\n",
    "\n"
   ]
  },
  {
   "cell_type": "code",
   "execution_count": null,
   "metadata": {},
   "outputs": [],
   "source": [
    "import PIL\n",
    "from PIL import Image"
   ]
  },
  {
   "cell_type": "code",
   "execution_count": null,
   "metadata": {},
   "outputs": [],
   "source": [
    "from keras.datasets import mnist\n"
   ]
  },
  {
   "cell_type": "code",
   "execution_count": 5,
   "metadata": {},
   "outputs": [],
   "source": [
    "## 1.2 Parameters"
   ]
  },
  {
   "cell_type": "code",
   "execution_count": null,
   "metadata": {},
   "outputs": [],
   "source": [
    "# filesystem\n",
    "Data_dir=\"/home/onyxia/work/AutoEncoder/Data\"\n",
    "Codes_dir=\"/home/onyxia/work/AutoEncoder/Codes\"\n",
    "Outputs_dir=\"/home/onyxia/work/AutoEncoder/Outputs\"\n",
    "\n",
    "# Preprocessing \n",
    "\n",
    "# Model"
   ]
  },
  {
   "cell_type": "markdown",
   "metadata": {},
   "source": [
    "# 2 Data Loading"
   ]
  },
  {
   "cell_type": "code",
   "execution_count": 46,
   "metadata": {},
   "outputs": [],
   "source": [
    "def get_mnist_image(num_samples=3000):\n",
    "    # Nombre de données à charger\n",
    "    num_samples = 3000  # Par exemple, charger 1000 échantillons\n",
    "\n",
    "    # Charger les données MNIST\n",
    "    (_, _) , (image_data, image_labesl) = mnist.load_data()\n",
    "\n",
    "     # Afficher la forme des données\n",
    "    print(\"image_data shape:\", image_data.shape)\n",
    "    print(\"image_data shape:\", image_labesl.shape)\n",
    "\n",
    "    return image_data, image_labesl\n"
   ]
  },
  {
   "cell_type": "code",
   "execution_count": 47,
   "metadata": {},
   "outputs": [
    {
     "name": "stdout",
     "output_type": "stream",
     "text": [
      "notre jeu de données contient  10000 images 28 * 28 pixels\n"
     ]
    }
   ],
   "source": [
    "n,k_x,k_y =image_data.shape\n",
    "print(\"notre jeu de données contient \", n, \"images\", k_x, \"*\",k_y,\"pixels\")"
   ]
  },
  {
   "cell_type": "raw",
   "metadata": {},
   "source": [
    "\n",
    "\n",
    "test_images_real = []\n",
    "for i,img_matrix in enumerate(image_data):\n",
    "    img = Image.fromarray(img_matrix)\n",
    "    test_images_real.append(np.array(img))"
   ]
  },
  {
   "cell_type": "code",
   "execution_count": 48,
   "metadata": {},
   "outputs": [],
   "source": [
    "def get_real_image(image_data):\n",
    "    images_real = []\n",
    "    for img_matrix in image_data:\n",
    "        img = Image.fromarray(img_matrix)\n",
    "        images_real.append(np.array(img))\n",
    "\n",
    "    return images_real"
   ]
  },
  {
   "cell_type": "code",
   "execution_count": 43,
   "metadata": {},
   "outputs": [],
   "source": [
    "test_images_real=get_real_image(image_data)"
   ]
  },
  {
   "cell_type": "markdown",
   "metadata": {},
   "source": [
    "# 2.2 Afficher des images "
   ]
  },
  {
   "cell_type": "code",
   "execution_count": 69,
   "metadata": {},
   "outputs": [],
   "source": [
    "def show_image(index_images,images=test_images_real,figsize=(10,5),image_labesl=image_labesl):\n",
    "    n=len(index_images) # n=num_images_to_show\n",
    "    plt.figure(figsize=figsize)\n",
    "    for i in range(n):\n",
    "         plt.subplot(1, n, i + 1)\n",
    "         plt.imshow(images[index_images[i]], cmap='gray')\n",
    "         plt.title(f\"Label: {image_labesl[index_images[i]]}\")\n",
    "         plt.axis('off')\n",
    "    plt.show()"
   ]
  },
  {
   "cell_type": "code",
   "execution_count": 70,
   "metadata": {},
   "outputs": [
    {
     "data": {
      "image/png": "[encoded data removed]",
      "text/plain": [
       "<Figure size 1000x500 with 5 Axes>"
      ]
     },
     "metadata": {},
     "output_type": "display_data"
    }
   ],
   "source": [
    "k=5    # on veut afficher k images\"\n",
    "some_indexes=np.random.permutation(range(n))[0:k]\n",
    "some_indexes\n",
    "show_image(some_indexes)"
   ]
  },
  {
   "cell_type": "markdown",
   "metadata": {},
   "source": [
    "# ADD NOISy"
   ]
  },
  {
   "cell_type": "code",
   "execution_count": 51,
   "metadata": {},
   "outputs": [],
   "source": [
    "# pip install scikit-image\n",
    "\n",
    "from skimage import io \n",
    "from skimage.util import random_noise"
   ]
  },
  {
   "cell_type": "code",
   "execution_count": 66,
   "metadata": {},
   "outputs": [],
   "source": [
    "def add_noise(images_data):\n",
    "    new_data=np.copy(images_data)\n",
    "    for i ,image in enumerate(images_data):\n",
    "        # ajout du bruit gaussian\n",
    "        image=random_noise(image,mode=\"gaussian\",mean=0,var=1)\n",
    "        image=random_noise(image,mode=\"s&p\",amount=1,salt_vs_pepper=0.5)\n",
    "        new_data[i]=image\n",
    "\n",
    "    return new_data"
   ]
  },
  {
   "cell_type": "code",
   "execution_count": 67,
   "metadata": {},
   "outputs": [],
   "source": [
    "noised_image=add_noise(test_images_real)"
   ]
  },
  {
   "cell_type": "code",
   "execution_count": 71,
   "metadata": {},
   "outputs": [
    {
     "data": {
      "image/png": "[encoded data removed]",
      "text/plain": [
       "<Figure size 1000x500 with 5 Axes>"
      ]
     },
     "metadata": {},
     "output_type": "display_data"
    }
   ],
   "source": [
    "show_image(some_indexes,images=noised_image )"
   ]
  },
  {
   "cell_type": "code",
   "execution_count": 72,
   "metadata": {},
   "outputs": [
    {
     "data": {
      "image/png": "[encoded data removed]",
      "text/plain": [
       "<Figure size 1000x500 with 5 Axes>"
      ]
     },
     "metadata": {},
     "output_type": "display_data"
    }
   ],
   "source": [
    "show_image(some_indexes)"
   ]
  },
  {
   "cell_type": "markdown",
   "metadata": {},
   "source": [
    "# 5 SHUFFLE and Save our prepared datasheet"
   ]
  },
  {
   "cell_type": "code",
   "execution_count": null,
   "metadata": {},
   "outputs": [],
   "source": [
    "5.1 SHUFLLE"
   ]
  },
  {
   "cell_type": "code",
   "execution_count": 8,
   "metadata": {},
   "outputs": [],
   "source": [
    "import numpy as np\n",
    "import random"
   ]
  },
  {
   "cell_type": "code",
   "execution_count": 15,
   "metadata": {},
   "outputs": [],
   "source": [
    "def shuffle_split(noised_image,class_image,scale=0.2):\n",
    "    n=noised_image.shape[0]\n",
    "    test_size=int(n*scale)\n",
    "    noised_image_random=np.copy(noised_image)\n",
    "    class_image_random=np.copy(class_image)\n",
    "    p=np.random.permutation(range(n))\n",
    "    train_index,test_index=p[:n-test_size],p[n-test_size:]\n",
    "\n",
    "    x_train,y_train=noised_image_random[train_index],class_image_random[train_index]\n",
    "    x_test,y_test=noised_image_random[test_index],class_image_random[test_index]\n",
    "\n",
    "    return (x_train,y_train),(x_train,y_train)"
   ]
  },
  {
   "cell_type": "code",
   "execution_count": 16,
   "metadata": {},
   "outputs": [
    {
     "data": {
      "text/plain": [
       "((array([3, 2, 1, 5]), array([1, 1, 1, 0])),\n",
       " (array([3, 2, 1, 5]), array([1, 1, 1, 0])))"
      ]
     },
     "execution_count": 16,
     "metadata": {},
     "output_type": "execute_result"
    }
   ],
   "source": [
    "shuffle_split(np.array([1,2,3,5,6]),np.array([1,1,1,0,0]))"
   ]
  },
  {
   "cell_type": "code",
   "execution_count": null,
   "metadata": {},
   "outputs": [],
   "source": []
  },
  {
   "cell_type": "code",
   "execution_count": null,
   "metadata": {},
   "outputs": [],
   "source": []
  }
 ],
 "metadata": {
  "kernelspec": {
   "display_name": "AE_env",
   "language": "python",
   "name": "ae_env"
  },
  "language_info": {
   "codemirror_mode": {
    "name": "ipython",
    "version": 3
   },
   "file_extension": ".py",
   "mimetype": "text/x-python",
   "name": "python",
   "nbconvert_exporter": "python",
   "pygments_lexer": "ipython3",
   "version": "3.11.6"
  }
 },
 "nbformat": 4,
 "nbformat_minor": 2
}
