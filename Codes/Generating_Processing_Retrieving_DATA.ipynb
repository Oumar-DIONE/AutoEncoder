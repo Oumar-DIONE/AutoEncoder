{
 "cells": [
  {
   "cell_type": "markdown",
   "metadata": {},
   "source": [
    "1 Init and Import "
   ]
  },
  {
   "cell_type": "code",
   "execution_count": 2,
   "metadata": {},
   "outputs": [],
   "source": [
    "import numpy as np"
   ]
  },
  {
   "cell_type": "code",
   "execution_count": 3,
   "metadata": {},
   "outputs": [],
   "source": [
    "import matplotlib.pyplot as plt"
   ]
  },
  {
   "cell_type": "code",
   "execution_count": 4,
   "metadata": {},
   "outputs": [],
   "source": [
    "import os\n",
    "\n",
    "# Définir le backend souhaité (par exemple, 'tensorflow' ou 'theano')\n",
    "backend = 'torch'  # Remplacez 'tensorflow' par le backend de votre choix\n",
    "\n",
    "# Définir la variable d'environnement KERAS_BACKEND\n",
    "os.environ['KERAS_BACKEND'] = backend\n",
    "\n",
    "# Importer Keras après avoir défini la variable d'environnement\n",
    "import keras\n",
    "\n",
    "\n"
   ]
  },
  {
   "cell_type": "code",
   "execution_count": 5,
   "metadata": {},
   "outputs": [],
   "source": [
    "import PIL\n",
    "from PIL import Image"
   ]
  },
  {
   "cell_type": "code",
   "execution_count": 6,
   "metadata": {},
   "outputs": [],
   "source": [
    "from keras.datasets import mnist\n"
   ]
  },
  {
   "cell_type": "code",
   "execution_count": 5,
   "metadata": {},
   "outputs": [],
   "source": [
    "## 1.2 Parameters"
   ]
  },
  {
   "cell_type": "code",
   "execution_count": 7,
   "metadata": {},
   "outputs": [],
   "source": [
    "# filesystem\n",
    "Data_dir=\"/home/onyxia/work/AutoEncoder/Data\"\n",
    "Codes_dir=\"/home/onyxia/work/AutoEncoder/Codes\"\n",
    "Outputs_dir=\"/home/onyxia/work/AutoEncoder/Outputs\"\n",
    "\n",
    "# Preprocessing \n",
    "\n",
    "# Model"
   ]
  },
  {
   "cell_type": "markdown",
   "metadata": {},
   "source": [
    "# 2 Data Loading"
   ]
  },
  {
   "cell_type": "code",
   "execution_count": 8,
   "metadata": {},
   "outputs": [],
   "source": [
    "def get_mnist_image(num_samples=3000):\n",
    "    # Nombre de données à charger\n",
    "    num_samples = 3000  # Par exemple, charger 1000 échantillons\n",
    "\n",
    "    # Charger les données MNIST\n",
    "    (_, _) , (image_data, image_labesl) = mnist.load_data()\n",
    "\n",
    "     # Afficher la forme des données\n",
    "    print(\"image_data shape:\", image_data.shape)\n",
    "    print(\"image_data shape:\", image_labesl.shape)\n",
    "\n",
    "    return image_data, image_labesl\n"
   ]
  },
  {
   "cell_type": "code",
   "execution_count": 9,
   "metadata": {},
   "outputs": [
    {
     "name": "stdout",
     "output_type": "stream",
     "text": [
      "image_data shape: (10000, 28, 28)\n",
      "image_data shape: (10000,)\n"
     ]
    }
   ],
   "source": [
    "image_data, image_labesl=get_mnist_image()"
   ]
  },
  {
   "cell_type": "code",
   "execution_count": 9,
   "metadata": {},
   "outputs": [
    {
     "name": "stdout",
     "output_type": "stream",
     "text": [
      "notre jeu de données contient  10000 images 28 * 28 pixels\n"
     ]
    }
   ],
   "source": [
    "n,k_x,k_y =image_data.shape\n",
    "print(\"notre jeu de données contient \", n, \"images\", k_x, \"*\",k_y,\"pixels\")"
   ]
  },
  {
   "cell_type": "raw",
   "metadata": {},
   "source": [
    "\n",
    "\n",
    "test_images_real = []\n",
    "for i,img_matrix in enumerate(image_data):\n",
    "    img = Image.fromarray(img_matrix)\n",
    "    test_images_real.append(np.array(img))"
   ]
  },
  {
   "cell_type": "code",
   "execution_count": 11,
   "metadata": {},
   "outputs": [],
   "source": [
    "def get_real_image(image_data):\n",
    "    images_real = []\n",
    "    for img_matrix in image_data:\n",
    "        img = Image.fromarray(img_matrix)\n",
    "        images_real.append(np.array(img))\n",
    "\n",
    "    return images_real"
   ]
  },
  {
   "cell_type": "code",
   "execution_count": 12,
   "metadata": {},
   "outputs": [],
   "source": [
    "images_real=get_real_image(image_data)"
   ]
  },
  {
   "cell_type": "markdown",
   "metadata": {},
   "source": [
    "# 2.2 Afficher des images "
   ]
  },
  {
   "cell_type": "code",
   "execution_count": 13,
   "metadata": {},
   "outputs": [],
   "source": [
    "def show_image(index_images,images=images_real,figsize=(10,5),image_labesl=image_labesl):\n",
    "    n=len(index_images) # n=num_images_to_show\n",
    "    plt.figure(figsize=figsize)\n",
    "    for i in range(n):\n",
    "         plt.subplot(1, n, i + 1)\n",
    "         plt.imshow(images[index_images[i]], cmap='gray')\n",
    "         plt.title(f\"Label: {image_labesl[index_images[i]]}\")\n",
    "         plt.axis('off')\n",
    "    plt.show()"
   ]
  },
  {
   "cell_type": "code",
   "execution_count": 15,
   "metadata": {},
   "outputs": [
    {
     "data": {
      "image/png": "[encoded data removed]",
      "text/plain": [
       "<Figure size 1000x500 with 5 Axes>"
      ]
     },
     "metadata": {},
     "output_type": "display_data"
    }
   ],
   "source": [
    "k=5    # on veut afficher k images\"\n",
    "n=10000\n",
    "some_indexes=np.random.permutation(range(n))[0:k]\n",
    "some_indexes\n",
    "show_image(some_indexes)"
   ]
  },
  {
   "cell_type": "markdown",
   "metadata": {},
   "source": [
    "# ADD NOISy"
   ]
  },
  {
   "cell_type": "code",
   "execution_count": 16,
   "metadata": {},
   "outputs": [],
   "source": [
    "# pip install scikit-image\n",
    "\n",
    "from skimage import io \n",
    "from skimage.util import random_noise"
   ]
  },
  {
   "cell_type": "code",
   "execution_count": 17,
   "metadata": {},
   "outputs": [],
   "source": [
    "def add_noise(images_data):\n",
    "    new_data=np.copy(images_data)\n",
    "    for i ,image in enumerate(images_data):\n",
    "        # ajout du bruit gaussian\n",
    "        image=random_noise(image,mode=\"gaussian\",mean=0,var=1)\n",
    "        image=random_noise(image,mode=\"s&p\",amount=1,salt_vs_pepper=0.5)\n",
    "        new_data[i]=image\n",
    "\n",
    "    return new_data"
   ]
  },
  {
   "cell_type": "code",
   "execution_count": 18,
   "metadata": {},
   "outputs": [],
   "source": [
    "noised_image=add_noise(images_real)"
   ]
  },
  {
   "cell_type": "code",
   "execution_count": 19,
   "metadata": {},
   "outputs": [
    {
     "data": {
      "text/plain": [
       "numpy.ndarray"
      ]
     },
     "execution_count": 19,
     "metadata": {},
     "output_type": "execute_result"
    }
   ],
   "source": [
    "type(noised_image)"
   ]
  },
  {
   "cell_type": "code",
   "execution_count": 20,
   "metadata": {},
   "outputs": [
    {
     "data": {
      "image/png": "[encoded data removed]",
      "text/plain": [
       "<Figure size 1000x500 with 5 Axes>"
      ]
     },
     "metadata": {},
     "output_type": "display_data"
    }
   ],
   "source": [
    "show_image(some_indexes,images=noised_image )"
   ]
  },
  {
   "cell_type": "code",
   "execution_count": 21,
   "metadata": {},
   "outputs": [
    {
     "data": {
      "image/png": "[encoded data removed]",
      "text/plain": [
       "<Figure size 1000x500 with 5 Axes>"
      ]
     },
     "metadata": {},
     "output_type": "display_data"
    }
   ],
   "source": [
    "show_image(some_indexes)"
   ]
  },
  {
   "cell_type": "markdown",
   "metadata": {},
   "source": [
    "# 5 SHUFFLE and Save our prepared datasheet"
   ]
  },
  {
   "cell_type": "code",
   "execution_count": null,
   "metadata": {},
   "outputs": [],
   "source": [
    "5.1 SHUFLLE"
   ]
  },
  {
   "cell_type": "code",
   "execution_count": 24,
   "metadata": {},
   "outputs": [],
   "source": [
    "import numpy as np\n",
    "import random"
   ]
  },
  {
   "cell_type": "code",
   "execution_count": 26,
   "metadata": {},
   "outputs": [],
   "source": [
    "def shuffle_split(noised_image,class_image,images_real=image_data,scale=0.2):\n",
    "    n=noised_image.shape[0]\n",
    "    test_size=int(n*scale)\n",
    "    noised_image_random=np.copy(noised_image)\n",
    "    class_image_random=np.copy(class_image)\n",
    "    p=np.random.permutation(range(n))\n",
    "    train_index,test_index=p[:n-test_size],p[n-test_size:]\n",
    "\n",
    "    x_train,y_train=noised_image_random[train_index],class_image_random[train_index]\n",
    "    x_test,y_test=noised_image_random[test_index],class_image_random[test_index]\n",
    "    y1_train,y1_test=images_real[train_index],images_real[test_index]\n",
    "\n",
    "    return (x_train,y_train,y1_train),(x_test,y_test,y1_test)"
   ]
  },
  {
   "cell_type": "code",
   "execution_count": 27,
   "metadata": {},
   "outputs": [
    {
     "data": {
      "text/plain": [
       "(10000, 28, 28)"
      ]
     },
     "execution_count": 27,
     "metadata": {},
     "output_type": "execute_result"
    }
   ],
   "source": [
    "image_data.shape"
   ]
  },
  {
   "cell_type": "code",
   "execution_count": 29,
   "metadata": {},
   "outputs": [],
   "source": [
    "(x_train,y_train,y1_train),(x_test,y_test,y1_test)=shuffle_split(noised_image,image_labesl)\n",
    "# x_train.shape"
   ]
  },
  {
   "cell_type": "code",
   "execution_count": 30,
   "metadata": {},
   "outputs": [
    {
     "data": {
      "text/plain": [
       "(8000, 28, 28)"
      ]
     },
     "execution_count": 30,
     "metadata": {},
     "output_type": "execute_result"
    }
   ],
   "source": [
    "y1_train.shape"
   ]
  },
  {
   "cell_type": "code",
   "execution_count": 28,
   "metadata": {},
   "outputs": [
    {
     "data": {
      "image/png": "[encoded data removed]",
      "text/plain": [
       "<Figure size 1000x500 with 4 Axes>"
      ]
     },
     "metadata": {},
     "output_type": "display_data"
    }
   ],
   "source": [
    "show_image([0,2,7,9],images=x_train)"
   ]
  },
  {
   "cell_type": "code",
   "execution_count": null,
   "metadata": {},
   "outputs": [],
   "source": [
    "# Save Data\n"
   ]
  },
  {
   "cell_type": "code",
   "execution_count": 34,
   "metadata": {},
   "outputs": [],
   "source": [
    "import h5py"
   ]
  },
  {
   "cell_type": "code",
   "execution_count": 38,
   "metadata": {},
   "outputs": [],
   "source": [
    "def save_data(x_train,y_train,x_test,y_test,y1_train,y1_test,data_filename):\n",
    "    with h5py.File(Data_dir+\"/\"+data_filename, 'w') as f:\n",
    "    # Créer un dataset\n",
    "       f.create_dataset('x_train', data=x_train)\n",
    "       f.create_dataset('y_train', data=y_train)\n",
    "       f.create_dataset('x_test', data=x_test)\n",
    "       f.create_dataset('y_test', data=y_test)\n",
    "       f.create_dataset('y_train_img', data=y1_train)\n",
    "       f.create_dataset('y_test_img', data=y1_test)\n"
   ]
  },
  {
   "cell_type": "code",
   "execution_count": 39,
   "metadata": {},
   "outputs": [],
   "source": [
    "save_data(x_train,y_train,x_test,y_test,y1_train,y1_test,\"Dataset_Images.h5\")"
   ]
  },
  {
   "cell_type": "code",
   "execution_count": 40,
   "metadata": {},
   "outputs": [],
   "source": [
    "def retrieve_data(filename) :\n",
    "    with h5py.File(Data_dir+\"/\"+filename, 'r') as f:\n",
    "    # Créer un dataset\n",
    "       x_train=  f['x_train'][:] \n",
    "       y_train=  f['y_train'][:]\n",
    "       y_train_img=  f['y_train_img'][:] \n",
    "       x_test=  f['x_test'][:] \n",
    "       y_test=  f['y_test'][:] \n",
    "       y_test_img=  f['y_test_img'][:] \n",
    "\n",
    "    return x_train,y_train_img,y_train,x_test,y_test_img,y_test"
   ]
  },
  {
   "cell_type": "code",
   "execution_count": null,
   "metadata": {},
   "outputs": [],
   "source": []
  },
  {
   "cell_type": "code",
   "execution_count": null,
   "metadata": {},
   "outputs": [],
   "source": []
  }
 ],
 "metadata": {
  "kernelspec": {
   "display_name": "AE_env",
   "language": "python",
   "name": "ae_env"
  },
  "language_info": {
   "codemirror_mode": {
    "name": "ipython",
    "version": 3
   },
   "file_extension": ".py",
   "mimetype": "text/x-python",
   "name": "python",
   "nbconvert_exporter": "python",
   "pygments_lexer": "ipython3",
   "version": "3.11.6"
  }
 },
 "nbformat": 4,
 "nbformat_minor": 2
}
